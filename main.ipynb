{
  "cells": [
    {
      "cell_type": "markdown",
      "metadata": {
        "id": "view-in-github",
        "colab_type": "text"
      },
      "source": [
        "<a href=\"https://colab.research.google.com/github/Mohamed-Devp/language-identification-with-CNNs/blob/main/main.ipynb\" target=\"_parent\"><img src=\"https://colab.research.google.com/assets/colab-badge.svg\" alt=\"Open In Colab\"/></a>"
      ]
    },
    {
      "cell_type": "markdown",
      "source": [
        "# Overview\n",
        "This notebook demonstrates the training of a deep learning model capable of identifying six distinct languages with 99% accuracy."
      ],
      "metadata": {
        "id": "wlSqlT5Coke9"
      }
    },
    {
      "cell_type": "markdown",
      "source": [
        "# Data Loading"
      ],
      "metadata": {
        "id": "fkp1aId1qWcc"
      }
    },
    {
      "cell_type": "markdown",
      "source": [
        "## Import necessary modules"
      ],
      "metadata": {
        "id": "owBVMnlIqeo0"
      }
    },
    {
      "cell_type": "code",
      "execution_count": 2,
      "metadata": {
        "id": "m9Pos5Xdyn8m"
      },
      "outputs": [],
      "source": [
        "import torch\n",
        "import torch.nn as nn\n",
        "import torch.nn.functional as F\n",
        "\n",
        "from torch.optim import SGD\n",
        "\n",
        "import numpy as np\n",
        "import pandas as pd\n",
        "\n",
        "import matplotlib.pyplot as plt\n",
        "import seaborn as sns\n",
        "\n",
        "import re\n",
        "from collections import Counter\n",
        "\n",
        "sns.set_theme(style = \"whitegrid\")"
      ]
    },
    {
      "cell_type": "markdown",
      "source": [
        "## Load the dataset\n",
        "```wili_subset.csv``` is a subset of the Wili-2018 dataset from kaggle. you can find it [here](https://www.kaggle.com/datasets/mexwell/wili-2018)"
      ],
      "metadata": {
        "id": "fkVEG7gfqqOc"
      }
    },
    {
      "cell_type": "code",
      "source": [
        "# Load the dataset\n",
        "df = pd.read_csv('/content/drive/MyDrive/Datasets/Wili Dataset/wili_subset.csv')\n",
        "df.head()"
      ],
      "metadata": {
        "colab": {
          "base_uri": "https://localhost:8080/",
          "height": 206
        },
        "id": "td05mEZDGs1_",
        "outputId": "b1f74aca-9e8e-4f6a-9cb0-83306a673df9"
      },
      "execution_count": 3,
      "outputs": [
        {
          "output_type": "execute_result",
          "data": {
            "text/plain": [
              "                                            Sentence    Language\n",
              "0  エノが行きがかりでバスに乗ってしまい、気分が悪くなった際に助けるが、今すぐバスを降りたいと運...    Japanese\n",
              "1  シャーリー・フィールドは、サン・ベルナルド・アベニュー沿い市民センターとR&Tマーティン高校...    Japanese\n",
              "2  Barocco (pt: Escândalo de 1ª página) é um film...  Portuguese\n",
              "3  Association de recherche et de sauvegarde de l...      French\n",
              "4  한국에서 성씨가 사용되기 시작한 정확한 시기는 알 수 없으나, 한자(漢字) 등 중국...      Korean"
            ],
            "text/html": [
              "\n",
              "  <div id=\"df-4cd4b0be-dd96-441b-8ded-5f449d52c273\" class=\"colab-df-container\">\n",
              "    <div>\n",
              "<style scoped>\n",
              "    .dataframe tbody tr th:only-of-type {\n",
              "        vertical-align: middle;\n",
              "    }\n",
              "\n",
              "    .dataframe tbody tr th {\n",
              "        vertical-align: top;\n",
              "    }\n",
              "\n",
              "    .dataframe thead th {\n",
              "        text-align: right;\n",
              "    }\n",
              "</style>\n",
              "<table border=\"1\" class=\"dataframe\">\n",
              "  <thead>\n",
              "    <tr style=\"text-align: right;\">\n",
              "      <th></th>\n",
              "      <th>Sentence</th>\n",
              "      <th>Language</th>\n",
              "    </tr>\n",
              "  </thead>\n",
              "  <tbody>\n",
              "    <tr>\n",
              "      <th>0</th>\n",
              "      <td>エノが行きがかりでバスに乗ってしまい、気分が悪くなった際に助けるが、今すぐバスを降りたいと運...</td>\n",
              "      <td>Japanese</td>\n",
              "    </tr>\n",
              "    <tr>\n",
              "      <th>1</th>\n",
              "      <td>シャーリー・フィールドは、サン・ベルナルド・アベニュー沿い市民センターとR&amp;Tマーティン高校...</td>\n",
              "      <td>Japanese</td>\n",
              "    </tr>\n",
              "    <tr>\n",
              "      <th>2</th>\n",
              "      <td>Barocco (pt: Escândalo de 1ª página) é um film...</td>\n",
              "      <td>Portuguese</td>\n",
              "    </tr>\n",
              "    <tr>\n",
              "      <th>3</th>\n",
              "      <td>Association de recherche et de sauvegarde de l...</td>\n",
              "      <td>French</td>\n",
              "    </tr>\n",
              "    <tr>\n",
              "      <th>4</th>\n",
              "      <td>한국에서 성씨가 사용되기 시작한 정확한 시기는 알 수 없으나, 한자(漢字) 등 중국...</td>\n",
              "      <td>Korean</td>\n",
              "    </tr>\n",
              "  </tbody>\n",
              "</table>\n",
              "</div>\n",
              "    <div class=\"colab-df-buttons\">\n",
              "\n",
              "  <div class=\"colab-df-container\">\n",
              "    <button class=\"colab-df-convert\" onclick=\"convertToInteractive('df-4cd4b0be-dd96-441b-8ded-5f449d52c273')\"\n",
              "            title=\"Convert this dataframe to an interactive table.\"\n",
              "            style=\"display:none;\">\n",
              "\n",
              "  <svg xmlns=\"http://www.w3.org/2000/svg\" height=\"24px\" viewBox=\"0 -960 960 960\">\n",
              "    <path d=\"M120-120v-720h720v720H120Zm60-500h600v-160H180v160Zm220 220h160v-160H400v160Zm0 220h160v-160H400v160ZM180-400h160v-160H180v160Zm440 0h160v-160H620v160ZM180-180h160v-160H180v160Zm440 0h160v-160H620v160Z\"/>\n",
              "  </svg>\n",
              "    </button>\n",
              "\n",
              "  <style>\n",
              "    .colab-df-container {\n",
              "      display:flex;\n",
              "      gap: 12px;\n",
              "    }\n",
              "\n",
              "    .colab-df-convert {\n",
              "      background-color: #E8F0FE;\n",
              "      border: none;\n",
              "      border-radius: 50%;\n",
              "      cursor: pointer;\n",
              "      display: none;\n",
              "      fill: #1967D2;\n",
              "      height: 32px;\n",
              "      padding: 0 0 0 0;\n",
              "      width: 32px;\n",
              "    }\n",
              "\n",
              "    .colab-df-convert:hover {\n",
              "      background-color: #E2EBFA;\n",
              "      box-shadow: 0px 1px 2px rgba(60, 64, 67, 0.3), 0px 1px 3px 1px rgba(60, 64, 67, 0.15);\n",
              "      fill: #174EA6;\n",
              "    }\n",
              "\n",
              "    .colab-df-buttons div {\n",
              "      margin-bottom: 4px;\n",
              "    }\n",
              "\n",
              "    [theme=dark] .colab-df-convert {\n",
              "      background-color: #3B4455;\n",
              "      fill: #D2E3FC;\n",
              "    }\n",
              "\n",
              "    [theme=dark] .colab-df-convert:hover {\n",
              "      background-color: #434B5C;\n",
              "      box-shadow: 0px 1px 3px 1px rgba(0, 0, 0, 0.15);\n",
              "      filter: drop-shadow(0px 1px 2px rgba(0, 0, 0, 0.3));\n",
              "      fill: #FFFFFF;\n",
              "    }\n",
              "  </style>\n",
              "\n",
              "    <script>\n",
              "      const buttonEl =\n",
              "        document.querySelector('#df-4cd4b0be-dd96-441b-8ded-5f449d52c273 button.colab-df-convert');\n",
              "      buttonEl.style.display =\n",
              "        google.colab.kernel.accessAllowed ? 'block' : 'none';\n",
              "\n",
              "      async function convertToInteractive(key) {\n",
              "        const element = document.querySelector('#df-4cd4b0be-dd96-441b-8ded-5f449d52c273');\n",
              "        const dataTable =\n",
              "          await google.colab.kernel.invokeFunction('convertToInteractive',\n",
              "                                                    [key], {});\n",
              "        if (!dataTable) return;\n",
              "\n",
              "        const docLinkHtml = 'Like what you see? Visit the ' +\n",
              "          '<a target=\"_blank\" href=https://colab.research.google.com/notebooks/data_table.ipynb>data table notebook</a>'\n",
              "          + ' to learn more about interactive tables.';\n",
              "        element.innerHTML = '';\n",
              "        dataTable['output_type'] = 'display_data';\n",
              "        await google.colab.output.renderOutput(dataTable, element);\n",
              "        const docLink = document.createElement('div');\n",
              "        docLink.innerHTML = docLinkHtml;\n",
              "        element.appendChild(docLink);\n",
              "      }\n",
              "    </script>\n",
              "  </div>\n",
              "\n",
              "\n",
              "<div id=\"df-0927fa42-a802-410f-87b1-36c6f6fdf3e6\">\n",
              "  <button class=\"colab-df-quickchart\" onclick=\"quickchart('df-0927fa42-a802-410f-87b1-36c6f6fdf3e6')\"\n",
              "            title=\"Suggest charts\"\n",
              "            style=\"display:none;\">\n",
              "\n",
              "<svg xmlns=\"http://www.w3.org/2000/svg\" height=\"24px\"viewBox=\"0 0 24 24\"\n",
              "     width=\"24px\">\n",
              "    <g>\n",
              "        <path d=\"M19 3H5c-1.1 0-2 .9-2 2v14c0 1.1.9 2 2 2h14c1.1 0 2-.9 2-2V5c0-1.1-.9-2-2-2zM9 17H7v-7h2v7zm4 0h-2V7h2v10zm4 0h-2v-4h2v4z\"/>\n",
              "    </g>\n",
              "</svg>\n",
              "  </button>\n",
              "\n",
              "<style>\n",
              "  .colab-df-quickchart {\n",
              "      --bg-color: #E8F0FE;\n",
              "      --fill-color: #1967D2;\n",
              "      --hover-bg-color: #E2EBFA;\n",
              "      --hover-fill-color: #174EA6;\n",
              "      --disabled-fill-color: #AAA;\n",
              "      --disabled-bg-color: #DDD;\n",
              "  }\n",
              "\n",
              "  [theme=dark] .colab-df-quickchart {\n",
              "      --bg-color: #3B4455;\n",
              "      --fill-color: #D2E3FC;\n",
              "      --hover-bg-color: #434B5C;\n",
              "      --hover-fill-color: #FFFFFF;\n",
              "      --disabled-bg-color: #3B4455;\n",
              "      --disabled-fill-color: #666;\n",
              "  }\n",
              "\n",
              "  .colab-df-quickchart {\n",
              "    background-color: var(--bg-color);\n",
              "    border: none;\n",
              "    border-radius: 50%;\n",
              "    cursor: pointer;\n",
              "    display: none;\n",
              "    fill: var(--fill-color);\n",
              "    height: 32px;\n",
              "    padding: 0;\n",
              "    width: 32px;\n",
              "  }\n",
              "\n",
              "  .colab-df-quickchart:hover {\n",
              "    background-color: var(--hover-bg-color);\n",
              "    box-shadow: 0 1px 2px rgba(60, 64, 67, 0.3), 0 1px 3px 1px rgba(60, 64, 67, 0.15);\n",
              "    fill: var(--button-hover-fill-color);\n",
              "  }\n",
              "\n",
              "  .colab-df-quickchart-complete:disabled,\n",
              "  .colab-df-quickchart-complete:disabled:hover {\n",
              "    background-color: var(--disabled-bg-color);\n",
              "    fill: var(--disabled-fill-color);\n",
              "    box-shadow: none;\n",
              "  }\n",
              "\n",
              "  .colab-df-spinner {\n",
              "    border: 2px solid var(--fill-color);\n",
              "    border-color: transparent;\n",
              "    border-bottom-color: var(--fill-color);\n",
              "    animation:\n",
              "      spin 1s steps(1) infinite;\n",
              "  }\n",
              "\n",
              "  @keyframes spin {\n",
              "    0% {\n",
              "      border-color: transparent;\n",
              "      border-bottom-color: var(--fill-color);\n",
              "      border-left-color: var(--fill-color);\n",
              "    }\n",
              "    20% {\n",
              "      border-color: transparent;\n",
              "      border-left-color: var(--fill-color);\n",
              "      border-top-color: var(--fill-color);\n",
              "    }\n",
              "    30% {\n",
              "      border-color: transparent;\n",
              "      border-left-color: var(--fill-color);\n",
              "      border-top-color: var(--fill-color);\n",
              "      border-right-color: var(--fill-color);\n",
              "    }\n",
              "    40% {\n",
              "      border-color: transparent;\n",
              "      border-right-color: var(--fill-color);\n",
              "      border-top-color: var(--fill-color);\n",
              "    }\n",
              "    60% {\n",
              "      border-color: transparent;\n",
              "      border-right-color: var(--fill-color);\n",
              "    }\n",
              "    80% {\n",
              "      border-color: transparent;\n",
              "      border-right-color: var(--fill-color);\n",
              "      border-bottom-color: var(--fill-color);\n",
              "    }\n",
              "    90% {\n",
              "      border-color: transparent;\n",
              "      border-bottom-color: var(--fill-color);\n",
              "    }\n",
              "  }\n",
              "</style>\n",
              "\n",
              "  <script>\n",
              "    async function quickchart(key) {\n",
              "      const quickchartButtonEl =\n",
              "        document.querySelector('#' + key + ' button');\n",
              "      quickchartButtonEl.disabled = true;  // To prevent multiple clicks.\n",
              "      quickchartButtonEl.classList.add('colab-df-spinner');\n",
              "      try {\n",
              "        const charts = await google.colab.kernel.invokeFunction(\n",
              "            'suggestCharts', [key], {});\n",
              "      } catch (error) {\n",
              "        console.error('Error during call to suggestCharts:', error);\n",
              "      }\n",
              "      quickchartButtonEl.classList.remove('colab-df-spinner');\n",
              "      quickchartButtonEl.classList.add('colab-df-quickchart-complete');\n",
              "    }\n",
              "    (() => {\n",
              "      let quickchartButtonEl =\n",
              "        document.querySelector('#df-0927fa42-a802-410f-87b1-36c6f6fdf3e6 button');\n",
              "      quickchartButtonEl.style.display =\n",
              "        google.colab.kernel.accessAllowed ? 'block' : 'none';\n",
              "    })();\n",
              "  </script>\n",
              "</div>\n",
              "\n",
              "    </div>\n",
              "  </div>\n"
            ],
            "application/vnd.google.colaboratory.intrinsic+json": {
              "type": "dataframe",
              "variable_name": "df",
              "summary": "{\n  \"name\": \"df\",\n  \"rows\": 3000,\n  \"fields\": [\n    {\n      \"column\": \"Sentence\",\n      \"properties\": {\n        \"dtype\": \"string\",\n        \"num_unique_values\": 2995,\n        \"samples\": [\n          \"A defini\\u00e7\\u00e3o dos SERVI\\u00c7OS GERENCIADOS para a \\u00e1rea de TI pode ser dada como o monitoramento ou gerenciamento remoto de hardwares, programas de computador, ou redes que podem estar instalados em estruturas pr\\u00f3prias ou hospedado em uma data center de terceiros. Os servi\\u00e7os de monitoramento ou gerenciamento citados tipicamente incluem alertas, gerenciamento de atualiza\\u00e7\\u00f5es de sistema operacional ou demais softwares utilizados na empresa, resolu\\u00e7\\u00e3o de problemas, preven\\u00e7\\u00e3o proativa de problemas, realiza\\u00e7\\u00e3o de manuten\\u00e7\\u00e3o de hardware, execu\\u00e7\\u00e3o de backups para seguran\\u00e7a de dados, entre outros.\",\n          \"\\u300e\\u30cf\\u30f3\\u30b9\\u30fb\\u30cf\\u30f3\\u30de\\u30fc\\u30fb\\u30d5\\u30a9\\u30f3\\u30fb\\u30f4\\u30a7\\u30eb\\u30c9\\u306e\\u753b\\u8b5c\\u300f\\u2015\\uff08\\u305d\\u306e\\uff18\\uff09\\u300e\\u30cf\\u30f3\\u30b9\\u30fb\\u30cf\\u30f3\\u30de\\u30fc\\u30fb\\u30d5\\u30a9\\u30f3\\u30fb\\u30f4\\u30a7\\u30eb\\u30c9\\u306e\\u753b\\u8b5c\\u300f\\u3068\\u300e\\u30f4\\u30a3\\u30e9\\u30fc\\u30eb\\u30fb\\u30c9\\u30fb\\u30aa\\u30f3\\u30cc\\u30af\\u30fc\\u30eb\\u306e\\u753b\\u5e16\\u300f\\u3068\\u306e\\u6bd4\\u8f03\\u3001\\uff08\\u305d\\u306e\\uff19\\uff09\\u300e\\u30cf\\u30f3\\u30b9\\u30fb\\u30cf\\u30f3\\u30de\\u30fc\\u30fb\\u30d5\\u30a9\\u30f3\\u30fb\\u30f4\\u30a7\\u30eb\\u30c9\\u306e\\u753b\\u8b5c\\u300f\\u3068M\\u30fb\\u30ed\\u30ea\\u30c4\\u30a1\\u30fc\\u306e\\u5c0f\\u518a\\u5b50\\u3001H\\u30fb\\u30b7\\u30e5\\u30e0\\u30c3\\u30c6\\u30eb\\u30de\\u30a4\\u30a2\\u306e\\u5c0f\\u518a\\u5b50\\u3001\\u53ca\\u3073L\\u30fb\\u30ec\\u30d2\\u30e9\\u30fc\\u306e\\u300e\\u6559\\u672c\\u300f\\u3068\\u306e\\u6bd4\\u8f03\\u2015\\u3001\\u65e5\\u672c\\u5efa\\u7bc9\\u5b66\\u4f1a\\u6771\\u6d77\\u652f\\u90e8\\u7814\\u7a76\\u5831\\u544a\\u66f8\\u7b2c51\\u53f7\\u3001\\u4e8c\\u3007\\u4e00\\u4e09\\u5e74\\u4e8c\\u6708\\u3001pp733-740\\u3002\",\n          \"Le championnat 2004-2005 r\\u00e9unit pour la premi\\u00e8re fois une poule unique de seize clubs, les quatre premi\\u00e8res \\u00e9quipes sont qualifi\\u00e9es pour disputer les demi-finales. Le championnat prend le nom de Top 14 \\u00e0 partir de la saison 2005-2006, comme son nom l'indique, quatorze clubs disputent cette comp\\u00e9tition. Les quatre premi\\u00e8res \\u00e9quipes sont qualifi\\u00e9es pour les demi-finales. \\u00c0 noter que les deux premiers du Championnat ne disposent pas de l'avantage du terrain, les demi-finales se jouant sur terrain neutre, l'avantage de terminer \\u00e0 l'une des deux premi\\u00e8res places est donc limit\\u00e9.\"\n        ],\n        \"semantic_type\": \"\",\n        \"description\": \"\"\n      }\n    },\n    {\n      \"column\": \"Language\",\n      \"properties\": {\n        \"dtype\": \"category\",\n        \"num_unique_values\": 6,\n        \"samples\": [\n          \"Japanese\",\n          \"Portuguese\",\n          \"English\"\n        ],\n        \"semantic_type\": \"\",\n        \"description\": \"\"\n      }\n    }\n  ]\n}"
            }
          },
          "metadata": {},
          "execution_count": 3
        }
      ]
    },
    {
      "cell_type": "code",
      "execution_count": null,
      "metadata": {
        "id": "EPz3iOOdzvF0"
      },
      "outputs": [],
      "source": [
        "# Clean the data\n",
        "df = df.drop_duplicates()\n",
        "print(f\"Number of duplicate rows: {df.duplicated().sum()}\")"
      ]
    },
    {
      "cell_type": "markdown",
      "source": [
        "# Data preprocessing\n"
      ],
      "metadata": {
        "id": "82y05FLKrZBE"
      }
    },
    {
      "cell_type": "markdown",
      "source": [
        "## Tokenization\n",
        "the code cells below convert each sentence in the dataset into a sequence of characters, since character-level models perform the best at this task."
      ],
      "metadata": {
        "id": "qUFmXKMvrsCM"
      }
    },
    {
      "cell_type": "code",
      "execution_count": null,
      "metadata": {
        "id": "wdSmLbm_0U0W"
      },
      "outputs": [],
      "source": [
        "# Encode the \"Language\" column\n",
        "unique_langs = np.unique(df['Language'])\n",
        "\n",
        "df['Encoded'] = df['Language'].apply(lambda lang: np.where(unique_langs == lang)[0][0])\n",
        "df.head()"
      ]
    },
    {
      "cell_type": "code",
      "execution_count": null,
      "metadata": {
        "id": "iD33Dz3R0qWr"
      },
      "outputs": [],
      "source": [
        "max_len = 128\n",
        "\n",
        "sequences = []\n",
        "labels = []\n",
        "\n",
        "for row in range(df.shape[0]):\n",
        "  sentence = df.iloc[row]['Sentence']\n",
        "  label = df.iloc[row]['Encoded']\n",
        "\n",
        "  # remove punctuation and specail characters\n",
        "  sentence = re.sub(r\"[^\\w\\s]\", \"\", sentence.lower())\n",
        "  tokenized = [char for char in sentence if char != \" \"] # Tokenize the text\n",
        "\n",
        "  # Convert sentence into sequences of characters\n",
        "  for start in range(0, len(tokenized), max_len):\n",
        "    chars_seq = tokenized[start:start + max_len]\n",
        "\n",
        "    if len(chars_seq) == max_len:\n",
        "      sequences.append(chars_seq)\n",
        "      labels.append(label)\n",
        "\n",
        "print(f\"Sequence: {sequences[0][:8]} - label: {labels[0]}\")"
      ]
    },
    {
      "cell_type": "markdown",
      "source": [
        "## Convert characters into indices"
      ],
      "metadata": {
        "id": "Gk-Uhmh7sXYt"
      }
    },
    {
      "cell_type": "code",
      "execution_count": 8,
      "metadata": {
        "id": "QlLaUZ8G_w3g"
      },
      "outputs": [],
      "source": [
        "# Convert tokens into indices\n",
        "chars = [char for sequence in sequences for char in sequence]\n",
        "counts = Counter(chars)\n",
        "\n",
        "num_chars = 3000\n",
        "char_to_index = {char: index for index, (char, _) in enumerate(counts.most_common(num_chars - 2), start = 2)}\n",
        "char_to_index['<OOV>'] = 0\n",
        "char_to_index['<PAD>'] = 1\n",
        "\n",
        "inputs = torch.empty((len(sequences), max_len), dtype = torch.int32)\n",
        "targets = torch.tensor(labels, dtype = torch.long)\n",
        "\n",
        "for i, sequence in enumerate(sequences):\n",
        "  inputs[i] = torch.tensor([char_to_index.get(char, char_to_index['<OOV>']) for char in sequence])\n",
        "\n",
        "device = 'cuda' if torch.cuda.is_available() else 'cpu'\n",
        "\n",
        "if device == 'cuda':\n",
        "  torch.cuda.empty_cache()\n",
        "\n",
        "  inputs = inputs.to(device)\n",
        "  targets = targets.to(device)"
      ]
    },
    {
      "cell_type": "markdown",
      "source": [
        "## Split the data"
      ],
      "metadata": {
        "id": "x8TqC2CAsxK0"
      }
    },
    {
      "cell_type": "code",
      "execution_count": 9,
      "metadata": {
        "id": "QjA-jCrKFs0U"
      },
      "outputs": [],
      "source": [
        "# Split the data into training, validation and testing sets\n",
        "def split(tensor, perc = .8):\n",
        "  idx = int(len(tensor) * perc)\n",
        "  return tensor[:idx], tensor[idx:]\n",
        "\n",
        "X_train, X_test = split(inputs)\n",
        "X_valid, X_test = split(X_test, perc = .5)\n",
        "\n",
        "y_train, y_test = split(targets)\n",
        "y_valid, y_test = split(y_test, perc = .5)"
      ]
    },
    {
      "cell_type": "markdown",
      "source": [
        "# Train the model"
      ],
      "metadata": {
        "id": "GZy9s-5es1Jk"
      }
    },
    {
      "cell_type": "markdown",
      "source": [
        "## Define the model architecture\n"
      ],
      "metadata": {
        "id": "wXRuNCS1s8Cd"
      }
    },
    {
      "cell_type": "code",
      "execution_count": 10,
      "metadata": {
        "id": "pMjmxK9Xr23w"
      },
      "outputs": [],
      "source": [
        "# Define the model architecture\n",
        "class CharCNN(nn.Module):\n",
        "  def __init__(\n",
        "      self,\n",
        "      vocab_size,\n",
        "      embedding_dim,\n",
        "      num_classes,\n",
        "  ):\n",
        "    super().__init__()\n",
        "\n",
        "    self.embedding = nn.Embedding(vocab_size, embedding_dim)\n",
        "\n",
        "    num_kernels = 128\n",
        "    self.conv = nn.Conv1d(in_channels=embedding_dim, out_channels=num_kernels, kernel_size=4)\n",
        "\n",
        "    self.output = nn.Linear(num_kernels, num_classes)\n",
        "\n",
        "  def configure(self, criterion, optimizer):\n",
        "    \"\"\"Configure the model loss function and optimizer.\"\"\"\n",
        "    self.criterion = criterion\n",
        "    self.optimizer = optimizer\n",
        "\n",
        "  def forward(self, inputs, probs = False):\n",
        "    \"\"\"Peform a forward pass in the network.\"\"\"\n",
        "    embedded = self.embedding(inputs).permute(0, 2, 1) # -> (batch_size, embed_dim, seq_len)\n",
        "\n",
        "    conv_out = F.relu(self.conv(embedded))\n",
        "\n",
        "    # apply max pooling to the convolutional layer output\n",
        "    pooled = F.max_pool1d(conv_out, kernel_size=conv_out.shape[-1]).squeeze(-1)\n",
        "    output = self.output(pooled)\n",
        "\n",
        "    return F.softmax(output) if probs else output\n",
        "\n",
        "  def backward(self, inputs, targets):\n",
        "    \"\"\"Peform a backward pass in the network.\"\"\"\n",
        "    self.optimizer.zero_grad() # reset the gradients\n",
        "\n",
        "    outputs = self.forward(inputs)\n",
        "    loss = self.criterion(outputs, targets)\n",
        "\n",
        "    loss.backward()\n",
        "    self.optimizer.step()\n",
        "\n",
        "    return loss.item()\n",
        "\n",
        "# Build the model\n",
        "model = CharCNN(\n",
        "    vocab_size=len(char_to_index),\n",
        "    embedding_dim=64,\n",
        "    num_classes=len(unique_langs)\n",
        ").to(device)\n",
        "\n",
        "optimizer = SGD(model.parameters(), lr = .01)\n",
        "criterion = nn.CrossEntropyLoss()\n",
        "\n",
        "model.configure(criterion, optimizer)\n",
        "\n",
        "# Store the training & validation losses\n",
        "losses = {\n",
        "    'train': [],\n",
        "    'valid': []\n",
        "}"
      ]
    },
    {
      "cell_type": "markdown",
      "source": [
        "## train a validate the model"
      ],
      "metadata": {
        "id": "-TXzgbIRt4Y0"
      }
    },
    {
      "cell_type": "code",
      "execution_count": null,
      "metadata": {
        "id": "ATOjWAAwzKES"
      },
      "outputs": [],
      "source": [
        "# Fit the model to the data\n",
        "batch_size = 128\n",
        "num_epochs = 1\n",
        "\n",
        "for epoch in range(num_epochs):\n",
        "  epoch_loss = num_batchs = 0\n",
        "\n",
        "  # Shuffle the data before each epoch\n",
        "  shuffled = torch.randperm(len(X_train))\n",
        "\n",
        "  for start in range(0, len(X_train), batch_size):\n",
        "    end = min(start + batch_size, len(X_train))\n",
        "\n",
        "    X_batch = X_train[shuffled][start:end]\n",
        "    y_batch = y_train[shuffled][start:end]\n",
        "\n",
        "    loss = model.backward(X_batch, y_batch)\n",
        "    epoch_loss += loss\n",
        "    num_batchs += 1\n",
        "\n",
        "  # Compute validation losses\n",
        "  with torch.no_grad():\n",
        "      outputs = model.forward(X_valid)\n",
        "      loss = criterion(outputs, y_valid).item()\n",
        "\n",
        "  losses['train'].append(epoch_loss / num_batchs)\n",
        "  losses['valid'].append(loss)\n",
        "\n",
        "  # Log the training progress\n",
        "  if epoch == 0 or (epoch + 1) % 5 == 0:\n",
        "    print(f\"Epoch: {epoch + 1} - Training: {losses['train'][-1]:.2f} - Validation: {losses['valid'][-1]:.2f}\")"
      ]
    },
    {
      "cell_type": "code",
      "execution_count": null,
      "metadata": {
        "id": "FVM6hhU8_yPi"
      },
      "outputs": [],
      "source": [
        "# Plot the loss curve\n",
        "sns.lineplot(losses['train'], label = 'training')\n",
        "sns.lineplot(losses['valid'], label = 'validation')\n",
        "plt.title('Loss curve')\n",
        "plt.show()"
      ]
    },
    {
      "cell_type": "code",
      "source": [
        "# Define the metrics functions\n",
        "def accuracy(targets, preds):\n",
        "  \"\"\"Computes the accuracy score.\"\"\"\n",
        "  return torch.sum(targets == preds) / len(targets)\n",
        "\n",
        "def recall_per_class(targets, preds, cl = 0):\n",
        "  \"\"\"Computes the recall score per class.\"\"\"\n",
        "  true = torch.sum((targets == cl) & (preds == cl))\n",
        "  false = torch.sum((targets == cl) & (preds != cl))\n",
        "\n",
        "  return true / (true + false)\n",
        "\n",
        "def precision_per_class(targets, preds, cl = 0):\n",
        "  \"\"\"Computes the precision score per class.\"\"\"\n",
        "  true = torch.sum((targets == cl) & (preds == cl))\n",
        "  total = torch.sum(preds == cl)\n",
        "\n",
        "  return true / total\n",
        "\n",
        "def f1_per_class(targets, preds, cl = 0):\n",
        "  \"\"\"Computes the F1 score per class.\"\"\"\n",
        "  recall = recall_per_class(targets, preds, cl)\n",
        "  precision = precision_per_class(targets, preds, cl)\n",
        "\n",
        "  return 2 * (precision * recall) / (precision + recall)"
      ],
      "metadata": {
        "id": "nJRorskyG2P1"
      },
      "execution_count": 13,
      "outputs": []
    },
    {
      "cell_type": "markdown",
      "source": [
        "## Evaluate the model\n",
        "Compute the recall, precision and F1 scores for each distint language."
      ],
      "metadata": {
        "id": "65faaJo-u3EH"
      }
    },
    {
      "cell_type": "code",
      "source": [
        "def evaluate(x, y, classes):\n",
        "  \"\"\"Computes the recall, precision and F1 score.\"\"\"\n",
        "  metrics = [\n",
        "      ('Recall', recall_per_class),\n",
        "      ('Precision', precision_per_class),\n",
        "      ('F1 score', f1_per_class)\n",
        "  ]\n",
        "\n",
        "  results = {\n",
        "      'lang': [],\n",
        "      'metric': [],\n",
        "      'value': []\n",
        "  }\n",
        "\n",
        "  # Model predictions\n",
        "  probs = model.forward(x)\n",
        "  preds = torch.argmax(probs, axis = 1)\n",
        "\n",
        "  # Compute each metric for per each given class\n",
        "  for metric, func in metrics:\n",
        "    for lang, cl in classes.items():\n",
        "      results['lang'].append(lang)\n",
        "      results['metric'].append(metric)\n",
        "      results['value'].append(func(y, preds, cl).item())\n",
        "\n",
        "  # Wrapp the results in a dataframe\n",
        "  return pd.DataFrame(results)"
      ],
      "metadata": {
        "id": "1nN8tbf_NOQy"
      },
      "execution_count": 14,
      "outputs": []
    },
    {
      "cell_type": "code",
      "source": [
        "# Compute and log the model accuracy\n",
        "probs = model.forward(X_test)\n",
        "preds = torch.argmax(probs, axis = 1)\n",
        "\n",
        "acc = accuracy(y_test, preds)\n",
        "print(f\"Accuracy score: {acc:.2f}\")\n",
        "\n",
        "# Visualize the model performance across different languages\n",
        "languages = [('English', 'French'), ('Spanish', 'Portuguese'), ('Japanese', 'Korean')]\n",
        "\n",
        "for lang1, lang2 in languages:\n",
        "  classes = {}\n",
        "\n",
        "  classes[lang1] = np.where(unique_langs == lang1)[0][0]\n",
        "  classes[lang2] = np.where(unique_langs == lang2)[0][0]\n",
        "\n",
        "  res = evaluate(X_test, y_test, classes)\n",
        "\n",
        "  g = sns.catplot(\n",
        "      data=res, kind='bar',\n",
        "      x=\"metric\", y=\"value\", hue=\"lang\",\n",
        "      alpha=.7, height=5\n",
        "  )\n",
        "  g.set_axis_labels(\"\", \"Value\")\n",
        "  g.legend.set_title(\"\")"
      ],
      "metadata": {
        "id": "ItGHFkxzivVE"
      },
      "execution_count": null,
      "outputs": []
    }
  ],
  "metadata": {
    "colab": {
      "provenance": [],
      "mount_file_id": "114wuDtGRqYcRfRxi7LAqp3s7Kh81V15W",
      "authorship_tag": "ABX9TyNYgL+a6KsCTuVYONMorgjx",
      "include_colab_link": true
    },
    "kernelspec": {
      "display_name": "Python 3",
      "name": "python3"
    },
    "language_info": {
      "name": "python"
    }
  },
  "nbformat": 4,
  "nbformat_minor": 0
}